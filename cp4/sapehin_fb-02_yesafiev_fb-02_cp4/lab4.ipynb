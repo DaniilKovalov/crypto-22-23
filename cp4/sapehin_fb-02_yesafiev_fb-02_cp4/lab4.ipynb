{
 "cells": [
  {
   "cell_type": "code",
   "execution_count": 95,
   "outputs": [],
   "source": [
    "from random import randint\n",
    "global num_of_iterations\n",
    "num_of_iterations = 40"
   ],
   "metadata": {
    "collapsed": false,
    "pycharm": {
     "name": "#%%\n"
    }
   }
  },
  {
   "cell_type": "code",
   "execution_count": 96,
   "outputs": [],
   "source": [
    "def hex_to_dec(hex_n):\n",
    "    return int(hex_n, 16)\n",
    "\n",
    "def dec_to_hex(n):\n",
    "    return hex(n).replace(\"0x\",\"\").upper()"
   ],
   "metadata": {
    "collapsed": false,
    "pycharm": {
     "name": "#%%\n"
    }
   }
  },
  {
   "cell_type": "code",
   "execution_count": 97,
   "outputs": [],
   "source": [
    "def mod_pow(x, y, m):\n",
    "    # Returns (x^y) % p\n",
    "    res = 1\n",
    "\n",
    "    x = x % m\n",
    "    while y > 0:\n",
    "        if y & 1:\n",
    "            res = (res * x) % m\n",
    "\n",
    "        y = y >> 1\n",
    "        x = (x * x) % m\n",
    "\n",
    "    return res\n",
    "\n",
    "# This function is called\n",
    "# for all k trials. It returns\n",
    "# false if n is composite and\n",
    "# returns false if n is\n",
    "# probably prime. d is an odd\n",
    "# number such that d*2<sup>r</sup> = n-1\n",
    "# for some r >= 1\n",
    "def miller_rabin_test(d, n):\n",
    "    # Pick a random number in [2..n-2]\n",
    "    # Corner cases make sure that n > 4\n",
    "    a = 2 + randint(1, n - 4)\n",
    "\n",
    "    # Compute a^d % n\n",
    "    x = mod_pow(a, d, n)\n",
    "\n",
    "    if x == 1 or x == n - 1:\n",
    "        return True\n",
    "\n",
    "    while d != n - 1:\n",
    "        x = (x * x) % n\n",
    "        d *= 2\n",
    "\n",
    "        if x == 1:\n",
    "            return False\n",
    "        if x == n - 1:\n",
    "            return True\n",
    "\n",
    "    # Return composite\n",
    "    return False\n",
    "\n",
    "# It returns false if n is\n",
    "# composite and returns true if n\n",
    "# is probably prime. k is an\n",
    "# input parameter that determines\n",
    "# accuracy level. Higher value of\n",
    "# k indicates more accuracy.\n",
    "def is_prime(n, k):\n",
    "    # Corner cases\n",
    "    if n <= 1 or n == 4:\n",
    "        return False\n",
    "    if n <= 3:\n",
    "        return True\n",
    "\n",
    "    # Find r such that n =\n",
    "    # 2^d * r + 1 for some r >= 1\n",
    "    d = n - 1\n",
    "    while d % 2 == 0:\n",
    "        d //= 2\n",
    "\n",
    "    # Iterate given number of 'k' times\n",
    "    for i in range(k):\n",
    "        if not miller_rabin_test(d, n):\n",
    "            return False\n",
    "\n",
    "    return True"
   ],
   "metadata": {
    "collapsed": false,
    "pycharm": {
     "name": "#%%\n"
    }
   }
  },
  {
   "cell_type": "code",
   "execution_count": 98,
   "outputs": [],
   "source": [
    "def generate_random_prime(range_min, range_max):\n",
    "    global num_of_iterations\n",
    "    while True:\n",
    "        number = randint(range_min, range_max)\n",
    "        if is_prime(number, num_of_iterations):\n",
    "            return number\n",
    "\n",
    "def generate_smaller_bigger(range_min, range_max):\n",
    "    a = generate_random_prime(range_min, range_max)\n",
    "    b = generate_random_prime(range_min, range_max)\n",
    "    return (a, b) if a <= b else (b, a)\n",
    "\n",
    "def generate_pairs(range_min, range_max):\n",
    "    p_p1 = generate_smaller_bigger(range_min, range_max)\n",
    "    q_q1 = generate_smaller_bigger(range_min, range_max)\n",
    "    return (p_p1[0], q_q1[0]), (p_p1[1], q_q1[1])\n"
   ],
   "metadata": {
    "collapsed": false,
    "pycharm": {
     "name": "#%%\n"
    }
   }
  },
  {
   "cell_type": "code",
   "execution_count": 99,
   "outputs": [],
   "source": [
    "def gcd_extended(a, m):\n",
    "    if a == 0:\n",
    "        return m, 0, 1\n",
    "    gcd, x1, y1 = gcd_extended(m % a, a)\n",
    "    x = y1 - (m // a) * x1\n",
    "    y = x1\n",
    "    return gcd, x, y\n",
    "\n",
    "\n",
    "def inverse_modulo(a, m):\n",
    "    gcd, x, y = gcd_extended(a, m)\n",
    "    if gcd == 1:\n",
    "        return (x % m + m) % m\n",
    "    else:\n",
    "        return -1"
   ],
   "metadata": {
    "collapsed": false,
    "pycharm": {
     "name": "#%%\n"
    }
   }
  },
  {
   "cell_type": "code",
   "execution_count": 100,
   "outputs": [],
   "source": [
    "def generate_keys(p, q):\n",
    "    n = p * q\n",
    "    phi = (p - 1) * (q - 1)\n",
    "    while True:\n",
    "        e = randint(2, phi - 1)\n",
    "        if gcd_extended(e, phi)[0] == 1:\n",
    "            d = inverse_modulo(e, phi)\n",
    "            return e, n, d"
   ],
   "metadata": {
    "collapsed": false,
    "pycharm": {
     "name": "#%%\n"
    }
   }
  },
  {
   "cell_type": "code",
   "execution_count": 101,
   "outputs": [],
   "source": [
    "class User:\n",
    "    def __init__(self, name, p, q):\n",
    "        self.name = name\n",
    "        self.p = p\n",
    "        self.q = q\n",
    "\n",
    "        keys = generate_keys(p, q)\n",
    "        self.e = keys[0]\n",
    "        self.n = keys[1]\n",
    "        self.d = keys[2]\n",
    "\n",
    "    def regenerate_keys(self, receiver_n, range_min, range_max):\n",
    "        \"\"\"Regenerates keys if incompatible with receiver n\"\"\"\n",
    "        while True:\n",
    "            p = generate_random_prime(range_min, range_max)\n",
    "            q = generate_random_prime(range_min, range_max)\n",
    "            keys = generate_keys(p, q)\n",
    "            if keys[1] <= receiver_n:\n",
    "                self.p = p\n",
    "                self.q = q\n",
    "                self.e = keys[0]\n",
    "                self.n = keys[1]\n",
    "                self.d = keys[2]\n",
    "                return\n",
    "\n",
    "    def hex_regenerate_keys(self, receiver_n, range_min, range_max):\n",
    "        \"\"\"Regenerates keys if incompatible with receiver n\"\"\"\n",
    "        self.regenerate_keys(hex_to_dec(receiver_n), range_min, range_max)\n",
    "\n",
    "    def encrypt(self, m, e, n):\n",
    "        c = mod_pow(m, e, n)\n",
    "        return c\n",
    "\n",
    "    def decrypt(self, c):\n",
    "        m = mod_pow(c, self.d, self.n)\n",
    "        return m\n",
    "\n",
    "    def sign(self, m):\n",
    "        s = mod_pow(m, self.d, self.n)\n",
    "        return s\n",
    "\n",
    "    def verify(self, m, s, e, n):\n",
    "        m_check = mod_pow(s, e, n)\n",
    "        return m == m_check\n",
    "\n",
    "    def send_key(self, k, e, n):\n",
    "        if self.n > n:\n",
    "            print('Need to regenerate keys!')\n",
    "            return\n",
    "        k_enc = self.encrypt(k, e, n)\n",
    "        s = self.sign(k)\n",
    "        s_enc = self.encrypt(s, e, n)\n",
    "        return k_enc, s_enc\n",
    "\n",
    "    def receive_key(self, k_enc, s_enc, e, n):\n",
    "        k = self.decrypt(k_enc)\n",
    "        s = self.decrypt(s_enc)\n",
    "        if self.verify(k, s, e, n):\n",
    "            print('Success')\n",
    "        else:\n",
    "            print('Failure')\n",
    "\n",
    "    def print_public(self):\n",
    "        print(f'Modulus:\\n{dec_to_hex(self.n)}\\n\\nE:\\n{dec_to_hex(self.e)}')\n",
    "\n",
    "    def hex_encrypt(self, m, e, n):\n",
    "        return dec_to_hex(self.encrypt(hex_to_dec(m),\n",
    "                                       hex_to_dec(e),\n",
    "                                       hex_to_dec(n)))\n",
    "\n",
    "    def hex_decrypt(self, m):\n",
    "        return dec_to_hex(self.decrypt(hex_to_dec(m)))\n",
    "\n",
    "    def hex_sign(self, m):\n",
    "        return self.sign(hex_to_dec(m))\n",
    "\n",
    "    def hex_verify(self, m, s, e, n):\n",
    "        return self.verify(hex_to_dec(m),\n",
    "                           hex_to_dec(s),\n",
    "                           hex_to_dec(e),\n",
    "                           hex_to_dec(n))\n",
    "\n",
    "    def hex_send_key(self, key, e, n):\n",
    "        k, s = self.send_key(hex_to_dec(key),\n",
    "                             hex_to_dec(e),\n",
    "                             hex_to_dec(n))\n",
    "        return dec_to_hex(k), dec_to_hex(s)\n",
    "\n",
    "    def hex_receive_key(self, k_enc, s_enc, e, n):\n",
    "        self.receive_key(hex_to_dec(k_enc),\n",
    "                         hex_to_dec(s_enc),\n",
    "                         hex_to_dec(e),\n",
    "                         hex_to_dec(n))"
   ],
   "metadata": {
    "collapsed": false,
    "pycharm": {
     "name": "#%%\n"
    }
   }
  },
  {
   "cell_type": "code",
   "execution_count": 102,
   "outputs": [
    {
     "name": "stdout",
     "output_type": "stream",
     "text": [
      "Generated message: 949511900\n",
      "\n",
      "Encrypted message from Lil to Big: 10331710542063877138135328253189421371742239512657835913717469076491497105268328762866997156892590168697908200455571949273283002823165771828935677539357627\n",
      "Signature: 2792710115216790674354404664994061338864028856443778807280804168738282633259013664901373096337991093278205176608546941450509177616740776033150511101541604\n",
      "\n",
      "\n",
      "Big decrypted message: 949511900\n",
      "Signature verify: True\n"
     ]
    }
   ],
   "source": [
    "range_min = int('1'+'0'*255, 2)\n",
    "range_max = int('1'*256, 2)\n",
    "smaller,bigger = generate_pairs(range_min, range_max)\n",
    "\n",
    "lil = User('Lil', smaller[0], smaller[1])\n",
    "big = User('Big', bigger[0], bigger[1])\n",
    "\n",
    "message = randint(1, 2 ** 30)\n",
    "print(f'Generated message: {message}\\n')\n",
    "\n",
    "m_enc = lil.encrypt(message, big.e, big.n)\n",
    "s = lil.sign(message)\n",
    "print(f'Encrypted message from Lil to Big: {m_enc}')\n",
    "print(f'Signature: {s}\\n\\n')\n",
    "\n",
    "\n",
    "m_dec = big.decrypt(m_enc)\n",
    "s_verify = big.verify(m_dec, s, lil.e, lil.n)\n",
    "print(f'Big decrypted message: {m_dec}')\n",
    "print(f'Signature verify: {s_verify}')"
   ],
   "metadata": {
    "collapsed": false,
    "pycharm": {
     "name": "#%%\n"
    }
   }
  },
  {
   "cell_type": "code",
   "execution_count": 103,
   "outputs": [
    {
     "name": "stdout",
     "output_type": "stream",
     "text": [
      "Generated key: 142955029\n",
      "\n",
      "Success\n"
     ]
    }
   ],
   "source": [
    "k = randint(1, 2 ** 30)\n",
    "print(f'Generated key: {k}\\n')\n",
    "\n",
    "k_enc, s_enc = lil.send_key(k, big.e, big.n)\n",
    "big.receive_key(k_enc, s_enc, lil.e, lil.n)"
   ],
   "metadata": {
    "collapsed": false,
    "pycharm": {
     "name": "#%%\n"
    }
   }
  },
  {
   "cell_type": "code",
   "execution_count": 104,
   "outputs": [
    {
     "name": "stdout",
     "output_type": "stream",
     "text": [
      "Modulus:\n",
      "9A669824FD43D7CACE5C11778683F88742E64381863FEA31A242E9AAFC5E02D2646E7ED82FDE075602FA184F34A89015ED4F7536D19CF6B31305A6D92E3C677F\n",
      "\n",
      "E:\n",
      "3051629F1CFCE497EF89CC529E24E84D7F6EE0EA87C74B7A0F3CA03C20F07F43608776891C783C3379F55DB4DE17082A53B2B47ACB13DE79EE49DEE804BC5D87\n"
     ]
    }
   ],
   "source": [
    "me = User('me', generate_random_prime(range_min, range_max), generate_random_prime(range_min, range_max))\n",
    "me.print_public()"
   ],
   "metadata": {
    "collapsed": false,
    "pycharm": {
     "name": "#%%\n"
    }
   }
  },
  {
   "cell_type": "code",
   "execution_count": 106,
   "outputs": [
    {
     "name": "stdout",
     "output_type": "stream",
     "text": [
      "Success\n"
     ]
    }
   ],
   "source": [
    "# Server modulus here\n",
    "n_hex = '94429BC353A2492FF546D7C266F6213D12EAB30228C49BE841775AD71D359200D026FEF407DC3C9DFBE0FCC7CC0215B0B4547D3EC21A271B08F35A6B2020E5CD'\n",
    "e_hex = '10001'\n",
    "\n",
    "key = 'ABCD'\n",
    "\n",
    "me.hex_receive_key('2D75944F092CB9BB9501BC0AA40230FD165EA2D7AB7A461606F040149608B576EF608C585AF9C98A70EAA46134620EE09517A2EBE6E989A2BBD2591056F8FBB6',\n",
    "                   '02C03740401B343980231E5D1F1122626F48FDDBC194544A7D30AA489E187F9C4FC8FEFEAC9F48834313C7EF598EA6C7185D80C0DC3944B0FC6BF89BF3D7D183',\n",
    "                   e_hex,\n",
    "                   n_hex)"
   ],
   "metadata": {
    "collapsed": false,
    "pycharm": {
     "name": "#%%\n"
    }
   }
  }
 ],
 "metadata": {
  "kernelspec": {
   "display_name": "Python 3",
   "language": "python",
   "name": "python3"
  },
  "language_info": {
   "codemirror_mode": {
    "name": "ipython",
    "version": 2
   },
   "file_extension": ".py",
   "mimetype": "text/x-python",
   "name": "python",
   "nbconvert_exporter": "python",
   "pygments_lexer": "ipython2",
   "version": "2.7.6"
  }
 },
 "nbformat": 4,
 "nbformat_minor": 0
}