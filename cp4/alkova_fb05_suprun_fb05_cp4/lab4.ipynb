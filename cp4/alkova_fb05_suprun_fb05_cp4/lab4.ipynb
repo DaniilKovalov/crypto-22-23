{
 "cells": [
  {
   "cell_type": "markdown",
   "id": "9af82a26",
   "metadata": {},
   "source": [
    "Лаборотарона робота №4\n",
    "Виконали студенти групи ФБ-05 Алькова Аліна, Супрун Максим"
   ]
  },
  {
   "cell_type": "markdown",
   "id": "39ad1b87",
   "metadata": {},
   "source": [
    "Перша частина містить такі функції:\n",
    " - gcdExtended - функція пошуку нсд за розширеним алгоритмом Евкліда (з лаб3)\n",
    " - modInverse - функція пошуку оберненого елемента (з лаб3)\n",
    " - MillerRabinTest - тест Міллера-Рабіна написаний за алгоритмом поданим у методичці\n",
    " - PrimeTest - додатковий тест, що виконується перед тестом Міллера-Рабіна\n",
    " - get_prime - генерує просте число"
   ]
  },
  {
   "cell_type": "code",
   "execution_count": 2,
   "id": "11f8f158",
   "metadata": {},
   "outputs": [],
   "source": [
    "#PART1\n",
    "import random\n",
    "def gcdExtended(a, b):\n",
    "    if a == 0:\n",
    "        x = 0\n",
    "        y = 1\n",
    "        return (abs(b), 0, 1)\n",
    "    gcd, y, x = gcdExtended(b % a, a) #recursion\n",
    "    x = x - (b // a) * y\n",
    "    return (gcd, x, y)\n",
    "    \n",
    "def modInverse(a, m):\n",
    "    gcd, x, y = gcdExtended(a, m)\n",
    "    if gcd != 1:\n",
    "        answer = 0 #Inverse doesn't exist\n",
    "    else:\n",
    "        answer = ((x % m + m) % m)\n",
    "    return answer\n",
    "\n",
    "def MillerRabinTest(p):   #Miller-Rabin Test that helps to check whether number is prime ot not    \n",
    "    s = 0\n",
    "    d = p - 1\n",
    "    while d % 2 == 0:\n",
    "        s += 1\n",
    "        d = d // 2\n",
    "    for trials in range(100):  \n",
    "        x = random.randrange(1, p+1)\n",
    "        if gcdExtended(x, p)[0] == 1:  \n",
    "            if pow(x, d, p) == 1 or pow(x, d, p) == -1 :  \n",
    "                return True\n",
    "            else:\n",
    "                for r in range(1, s - 1):   \n",
    "                    xr = pow(x, d * (2 ** r), p)\n",
    "                    if xr == -1:\n",
    "                        return True  \n",
    "                    elif xr == 1:\n",
    "                        return False\n",
    "                    else:\n",
    "                        continue\n",
    "        else:\n",
    "            return False\n",
    "    return False\n",
    "\n",
    "def PrimeTest(num): #additional test\n",
    "    knownPrimes = [2, 3, 5, 7, 11, 13, 17, 19, 23, 29, 31, 37, 41, 43, 47, 53, 59, 61, 67, 71, 73, 79, 83, 89, 97, 101]\n",
    "    if num in knownPrimes: #if num in list\n",
    "        return True\n",
    "    for prime in knownPrimes: # if it is divided by some number from list\n",
    "        if (num % prime == 0):\n",
    "            return False\n",
    "    return MillerRabinTest(num) #go to Miller-Rabin Test\n",
    "\n",
    "\n",
    "def get_prime():\n",
    "    while True:\n",
    "        minr = (2 ** 255) + 1\n",
    "        maxr = (2 ** 256) - 1\n",
    "        randnum = random.randrange(minr,maxr+1)\n",
    "        if PrimeTest(randnum): #check if it is ok than return\n",
    "            return randnum          "
   ]
  },
  {
   "cell_type": "markdown",
   "id": "a1b71499",
   "metadata": {},
   "source": [
    "Друга частина містить такі функції:\n",
    "- get_primepair - генерує пари простих чисел для подальших учасників"
   ]
  },
  {
   "cell_type": "code",
   "execution_count": 7,
   "id": "46ea5d1b",
   "metadata": {},
   "outputs": [],
   "source": [
    "#PART2\n",
    "def get_primepair():\n",
    "    while True: #p,q,p1,q1\n",
    "        p = get_prime()\n",
    "        q = get_prime()\n",
    "        p1 = get_prime()\n",
    "        q1 = get_prime()\n",
    "        pairs = [] #array that will contain pairs\n",
    "        if (p * q) < (p1 * q1):\n",
    "            pairs.append(p) #adding each num\n",
    "            pairs.append(q)\n",
    "            pairs.append(p1)\n",
    "            pairs.append(q1)\n",
    "            return pairs\n",
    "        \n",
    "        \n",
    "\n",
    "p,q,p1,q1=get_primepair()\n",
    "#print(p,\"---\",q,\"---\",p1,\"---\",q1)"
   ]
  },
  {
   "cell_type": "markdown",
   "id": "bc9b88a3",
   "metadata": {},
   "source": [
    "Третя частина містить такі функції:\n",
    "- get_keypair - генерує ключові пари для RSA\n",
    "Учасників називатимемо по класиці Алісою та Бобом"
   ]
  },
  {
   "cell_type": "code",
   "execution_count": 8,
   "id": "e40152a1",
   "metadata": {
    "scrolled": false
   },
   "outputs": [
    {
     "name": "stdout",
     "output_type": "stream",
     "text": [
      "---Alice:\n",
      "\n",
      "p:  66940350573416764237533868426136458258565776292343662957536111610763892040179 \n",
      "\n",
      "q:  59989047430891953102761416942880075497059566499752767885049082593057268089363 \n",
      "\n",
      "Alice's public key:  [4015687865589233620396443097936281946319589225464015050725107692124014561400627785408109841506920570459826653968766433560727510297543813946197655358515977, 1753944344984322061147632679802677961121946114671474579501661691711458669467694851284524825023479665890085779788455875769650742117461132531209023932618613] \n",
      "\n",
      "Alice's private key:  2310417493218980967624041392268888328929314437947963603686121498571471626938640935075228896971761441901403791093674951632274764461924749640546919337234777 \n",
      "\n",
      "---Bob:\n",
      "\n",
      "p:  110582499002401853067925970165563507376162886381782711375157884867316635547551 \n",
      "\n",
      "q:  67694477173663661453187260364098520323641033330507644862420814953188575111263 \n",
      "\n",
      "Bob's public key:  [7485824454524776856664627389149684169284513374240097942512184826992995524330011686653258821772299183975909121357102365619550296930068781870733250752166913, 429990471718017111406765094168112264836554863970090386428523378482860266528539312557727987037282400792536838187509991033006825760479585394510387358379341] \n",
      "\n",
      "Bob's private key:  3055490734156402247340182284179922670576554073178589265472605141386393163228725184352981811815605338316516492194781565123112257170123846734756207386694561 \n",
      "\n"
     ]
    }
   ],
   "source": [
    "#PART3\n",
    "def get_keypair(p, q): #generate keys due to the rule\n",
    "    n = p*q\n",
    "    EulerFunc = (p-1)*(q-1)\n",
    "    while True:\n",
    "        e = random.randrange(2, EulerFunc)\n",
    "        if gcdExtended(e, EulerFunc)[0] == 1:\n",
    "            d = modInverse(e, EulerFunc)\n",
    "            return [d, p, q], [n, e] \n",
    "\n",
    "a_private, a_public = get_keypair(p, q)\n",
    "b_private, b_public = get_keypair(p1, q1)\n",
    "print(\"---Alice:\\n\")\n",
    "print(\"p: \",p,\"\\n\")\n",
    "print(\"q: \",q,\"\\n\")\n",
    "print(\"Alice's public key: \",a_public,\"\\n\")\n",
    "print(\"Alice's private key: \",a_private[0],\"\\n\")\n",
    "print(\"---Bob:\\n\")\n",
    "print(\"p: \",p1,\"\\n\")\n",
    "print(\"q: \",q1,\"\\n\")\n",
    "print(\"Bob's public key: \",b_public,\"\\n\")\n",
    "print(\"Bob's private key: \",b_private[0],\"\\n\")\n",
    "\n"
   ]
  },
  {
   "cell_type": "markdown",
   "id": "248bd8eb",
   "metadata": {},
   "source": [
    "Допоміжні функції, що конверутватимуть текстові повідомлення в потрібну систему числення та навпаки"
   ]
  },
  {
   "cell_type": "code",
   "execution_count": 9,
   "id": "da9f4e57",
   "metadata": {},
   "outputs": [],
   "source": [
    "#PREPARE MESSAGE\n",
    "import binascii\n",
    "def convert(message):\n",
    "    return int(message.encode('utf-8').hex(), base=16)\n",
    "\n",
    "def convert_totext(message):\n",
    "    hexmss=hex(message)[2:]\n",
    "    return binascii.unhexlify(hexmss).decode('utf-8')\n",
    "\n",
    "\n",
    "text = \"Catch me, if u can\"\n",
    "message = convert(text)"
   ]
  },
  {
   "cell_type": "markdown",
   "id": "d0b53597",
   "metadata": {},
   "source": [
    "Четверта частина містить:\n",
    "- encrypt - шифрує повідомлення\n",
    "- decrypt - розшифровує\n",
    "- sign - генерує підпис\n",
    "- verify - перевіряє підпис"
   ]
  },
  {
   "cell_type": "code",
   "execution_count": 10,
   "id": "ce7da5de",
   "metadata": {},
   "outputs": [],
   "source": [
    "#PART4\n",
    "def encrypt(message, public_key):\n",
    "    return pow(message, public_key[1], public_key[0])\n",
    "def decrypt(ct, private_key):\n",
    "    n=private_key[1]*private_key[2]\n",
    "    return pow(ct, private_key[0],n)\n",
    "def sign(message,private_key):\n",
    "    n=private_key[1]*private_key[2]\n",
    "    return pow(message, private_key[0],n)\n",
    "def verify(message, sign, public_key):\n",
    "    testmessage = pow(sign, public_key[1], public_key[0])\n",
    "    if  testmessage == message:\n",
    "        print(\"(!)verification succeeded\")\n",
    "        return True\n",
    "    else:\n",
    "        print(\"(!)verification failed\")\n",
    "        return False\n",
    "    "
   ]
  },
  {
   "cell_type": "markdown",
   "id": "a36039fe",
   "metadata": {},
   "source": [
    "Остання частина містить фукції відправки та отримання повідомлення."
   ]
  },
  {
   "cell_type": "code",
   "execution_count": 11,
   "id": "4bf2628c",
   "metadata": {},
   "outputs": [
    {
     "name": "stdout",
     "output_type": "stream",
     "text": [
      "--Ready to send message\n",
      "--Sending this ->\n",
      "[5383390308571295562903770047128169938687977299663276224210780671005328543879353375257039640902788244757827512469735192455467637235525083319446763475914084, 4729382801463043901252622430869616575452765948357518205031249697686706456742787855215343970390043955842175990609929081340937116426827664070681823363118836]\n",
      "--Message was recieved\n",
      "(!)verification succeeded\n",
      "--Message from receiver ->\n",
      "Catch me, if u can\n"
     ]
    }
   ],
   "source": [
    "#PART5\n",
    "def send(k, dest_public_key, src_private_key):\n",
    "    print(\"--Ready to send message\")\n",
    "    k1 = encrypt(k, dest_public_key) #message\n",
    "    s = sign(k, src_private_key) # create sign\n",
    "    s1 = encrypt(s, dest_public_key) #encrypt it\n",
    "    print(\"--Sending this ->\")\n",
    "    return [k1, s1]\n",
    "\n",
    "def recieve(k1s1, dest_private_key, src_public_key):\n",
    "    print(\"--Message was recieved\")\n",
    "    k = decrypt(k1s1[0], dest_private_key)\n",
    "    s = decrypt(k1s1[1], dest_private_key)\n",
    "    if verify(k, s, src_public_key):\n",
    "        mess = convert_totext(k)\n",
    "        print(\"--Message from receiver ->\")\n",
    "        return mess\n",
    "    else:\n",
    "        print(\"(!)аuthentication failed\")\n",
    "        return None\n",
    "\n",
    "send=send(message,b_public,a_private)\n",
    "print(send)\n",
    "recieve = recieve(send,b_private,a_public)\n",
    "print(recieve)"
   ]
  },
  {
   "cell_type": "code",
   "execution_count": null,
   "id": "62622d51",
   "metadata": {},
   "outputs": [],
   "source": [
    "Далі йдуть декілька тестів, що перевірялись за допомогою вказаного сайта у методичних вказівках"
   ]
  },
  {
   "cell_type": "code",
   "execution_count": 30,
   "id": "039803e1",
   "metadata": {},
   "outputs": [],
   "source": [
    "def to_hex(number):\n",
    "    hex_n = hex(number)\n",
    "    return hex_n[2:]\n",
    "def from_hex(hex_n):\n",
    "    numb = int(hex_n, base=16)\n",
    "    return numb"
   ]
  },
  {
   "cell_type": "code",
   "execution_count": 33,
   "id": "20abb4b1",
   "metadata": {},
   "outputs": [
    {
     "name": "stdout",
     "output_type": "stream",
     "text": [
      "Text is encrypted!\n",
      "Here is your ciphertext -->   1853f208b0159888d65d13c9d3befd0c41d6c13280e7a7dd452e0a06af88020e\n"
     ]
    }
   ],
   "source": [
    "#TEST1 - ENCRYPTION FUNCTION (ENCRYPT LOCAL, DECRYPT ON SERVER)\n",
    "server_key_n = '8EFC6EED4D95A432ECB4EAECFEDCB5EB0B5BEBA4EA060B9C8264708D6AB73179'\n",
    "server_key_n = from_hex(server_key_n)\n",
    "#print(server_key_n)\n",
    "server_key_e = '10001'\n",
    "server_key_e = from_hex(server_key_e)\n",
    "\n",
    "serv_key_pub = [server_key_n, server_key_e]\n",
    "\n",
    "test_message = \"Glory to Ukraine\"\n",
    "test_message = convert(test_message)\n",
    "\n",
    "encrypted = to_hex(encrypt(test_message, serv_key_pub))\n",
    "print('Text is encrypted!')\n",
    "print(\"Here is your ciphertext -->  \",encrypted)"
   ]
  },
  {
   "cell_type": "code",
   "execution_count": 47,
   "id": "cd96d35b",
   "metadata": {},
   "outputs": [
    {
     "name": "stdout",
     "output_type": "stream",
     "text": [
      "Alice's public key:  [4015687865589233620396443097936281946319589225464015050725107692124014561400627785408109841506920570459826653968766433560727510297543813946197655358515977, 1753944344984322061147632679802677961121946114671474579501661691711458669467694851284524825023479665890085779788455875769650742117461132531209023932618613] \n",
      "\n",
      "3a4ce3d550e6a9cee818db740a8d05734adb95e9e08e2bc3c7a824a05a8574bae1d746c53a48cdb31179950cb555773c007b782cc5090045281fc11d65ff7fe9 \n",
      "\n",
      "Alice's private key:  [2310417493218980967624041392268888328929314437947963603686121498571471626938640935075228896971761441901403791093674951632274764461924749640546919337234777, 66940350573416764237533868426136458258565776292343662957536111610763892040179, 59989047430891953102761416942880075497059566499752767885049082593057268089363] \n",
      "\n"
     ]
    },
    {
     "data": {
      "text/plain": [
       "'Catch me if you can'"
      ]
     },
     "execution_count": 47,
     "metadata": {},
     "output_type": "execute_result"
    }
   ],
   "source": [
    "#TEST2 - DECRYPTION FUNCTION (DECRYPT LOCAL, ENCRYPT ON SERVER+ENCRYPT LOCAL)\n",
    "print(\"Alice's public key: \",a_public,\"\\n\")\n",
    "my_key_n = to_hex(a_public[0])\n",
    "#print(my_key_n)\n",
    "my_key_e = to_hex(a_public[1])\n",
    "#print(my_key_e)\n",
    "\n",
    "tmessage = \"Catch me if you can\"\n",
    "server_ciphertext = '3A4CE3D550E6A9CEE818DB740A8D05734ADB95E9E08E2BC3C7A824A05A8574BAE1D746C53A48CDB31179950CB555773C007B782CC5090045281FC11D65FF7FE9'\n",
    "\n",
    "encrypted = to_hex(encrypt(convert(tmessage), a_public))\n",
    "print(encrypted,\"\\n\")\n",
    "\n",
    "print(\"Alice's private key: \",a_private,\"\\n\")\n",
    "nserver_ciphertext = from_hex(server_ciphertext)\n",
    "convert_totext(decrypt(nserver_ciphertext, a_private))"
   ]
  },
  {
   "cell_type": "code",
   "execution_count": 48,
   "id": "5f5144f3",
   "metadata": {},
   "outputs": [
    {
     "name": "stdout",
     "output_type": "stream",
     "text": [
      "(!)verification succeeded\n"
     ]
    },
    {
     "data": {
      "text/plain": [
       "True"
      ]
     },
     "execution_count": 48,
     "metadata": {},
     "output_type": "execute_result"
    }
   ],
   "source": [
    "#TEST3 - VERIFY FUNCTION (SIGN ON SERVER, VERIFY LOCAL)\n",
    "server_sign = '64D9B32067F8840071AEF3504F00F3868DABF3D9C2862126041C350025D8C17B'\n",
    "server_sign = from_hex(server_sign)\n",
    "server_key_n = '8EFC6EED4D95A432ECB4EAECFEDCB5EB0B5BEBA4EA060B9C8264708D6AB73179'\n",
    "server_key_n = from_hex(server_key_n)\n",
    "#print(server_key_n)\n",
    "server_key_e = '10001'\n",
    "server_key_e = from_hex(server_key_e)\n",
    "serv_key_pub = [server_key_n, server_key_e]\n",
    "mess = 'Hi'\n",
    "mess = convert(mess)\n",
    "verify(mess,server_sign,serv_key_pub)"
   ]
  },
  {
   "cell_type": "code",
   "execution_count": 53,
   "id": "4f1a2f67",
   "metadata": {},
   "outputs": [
    {
     "name": "stdout",
     "output_type": "stream",
     "text": [
      "Alice's private key:  [2310417493218980967624041392268888328929314437947963603686121498571471626938640935075228896971761441901403791093674951632274764461924749640546919337234777, 66940350573416764237533868426136458258565776292343662957536111610763892040179, 59989047430891953102761416942880075497059566499752767885049082593057268089363] \n",
      "\n",
      "988e11976ba3f7596c388abb08c03bc1ba0083a82d3ddc2fef3350d18bdd0cd92f99db7ddbc1c390a57a043d5541148d005efe80d25d0a9b6d0ad75b5f6d451 \n",
      "\n",
      "Alice's public key:  [4015687865589233620396443097936281946319589225464015050725107692124014561400627785408109841506920570459826653968766433560727510297543813946197655358515977, 1753944344984322061147632679802677961121946114671474579501661691711458669467694851284524825023479665890085779788455875769650742117461132531209023932618613] \n",
      "\n",
      "4cac45fe98b41925b86a39320da496eca0c33bbc6802c8fd7bd0483c85f7110508bb8f3e512502d3c8adb6da4d2b390bb4da0b3a61ae8dbb546a8130a5e7ab09\n",
      "217d19f3ad7853a8a64ff6c935e8ce825afba23129f4f9c2c4fa73f51ce66c1c987f8bb949c837f74d7f006c031c40b0d5284344bba9ca02ae025de2afac5775\n"
     ]
    }
   ],
   "source": [
    "#TEST4 - SIGN FUNCTION (SIGN LOCAL, VERIFY ON SERVER)\n",
    "print(\"Alice's private key: \",a_private,\"\\n\")\n",
    "mess = 'Hi'\n",
    "mess = convert(mess)\n",
    "print(to_hex(sign(mess,a_private)),\"\\n\")\n",
    "print(\"Alice's public key: \",a_public,\"\\n\")\n",
    "my_key_n = to_hex(a_public[0])\n",
    "print(my_key_n)\n",
    "my_key_e = to_hex(a_public[1])\n",
    "print(my_key_e)"
   ]
  },
  {
   "cell_type": "code",
   "execution_count": null,
   "id": "dc9be33a",
   "metadata": {},
   "outputs": [],
   "source": []
  },
  {
   "cell_type": "code",
   "execution_count": null,
   "id": "5d6ec429",
   "metadata": {},
   "outputs": [],
   "source": []
  }
 ],
 "metadata": {
  "kernelspec": {
   "display_name": "Python 3 (ipykernel)",
   "language": "python",
   "name": "python3"
  },
  "language_info": {
   "codemirror_mode": {
    "name": "ipython",
    "version": 3
   },
   "file_extension": ".py",
   "mimetype": "text/x-python",
   "name": "python",
   "nbconvert_exporter": "python",
   "pygments_lexer": "ipython3",
   "version": "3.9.12"
  }
 },
 "nbformat": 4,
 "nbformat_minor": 5
}
