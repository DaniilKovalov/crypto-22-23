{
 "cells": [
  {
   "cell_type": "code",
   "execution_count": 1,
   "outputs": [],
   "source": [
    "import re\n",
    "import pandas as pd\n",
    "import matplotlib.pyplot as plt\n",
    "import numpy as np\n",
    "import warnings\n",
    "warnings.filterwarnings(\"ignore\", category=DeprecationWarning)"
   ],
   "metadata": {
    "collapsed": false,
    "pycharm": {
     "name": "#%%\n"
    }
   }
  },
  {
   "cell_type": "code",
   "execution_count": 2,
   "outputs": [],
   "source": [
    "a = ord('а')\n",
    "alphabet = ''.join([chr(i) for i in range(a, a + 32)])\n",
    "open_text = open('open.txt', encoding='utf-8').read().replace('\\n', '')\n",
    "open_text = open_text.lower().replace('ё', 'е')\n",
    "open_text = re.sub('[^а-я]', '', open_text)\n",
    "key2 = 'ад'\n",
    "key3 = 'окс'\n",
    "key4 = 'глаз'\n",
    "key5 = 'папки'\n",
    "key_big = 'наногидроксоцинкат'"
   ],
   "metadata": {
    "collapsed": false,
    "pycharm": {
     "name": "#%%\n"
    }
   }
  },
  {
   "cell_type": "code",
   "execution_count": 3,
   "outputs": [],
   "source": [
    "def count_letters(string):\n",
    "    occurrences = {}\n",
    "    for l in alphabet:\n",
    "        occurrences[l] = string.count(l)\n",
    "    return occurrences\n",
    "\n",
    "\n",
    "def count_I(text):\n",
    "    n = len(text)\n",
    "    s = 0\n",
    "    occurrences = count_letters(text)\n",
    "    for m in occurrences.values():\n",
    "        s += m * (m - 1)\n",
    "    return s / (n * (n - 1))"
   ],
   "metadata": {
    "collapsed": false,
    "pycharm": {
     "name": "#%%\n"
    }
   }
  },
  {
   "cell_type": "code",
   "execution_count": 4,
   "outputs": [],
   "source": [
    "def get_letter(open_l, key_l):\n",
    "    return chr(ord('а') + (ord(open_l) + ord(key_l)) % len(alphabet))\n",
    "\n",
    "def encrypt(text, key):\n",
    "    encrypted = ''\n",
    "    for i in range(len(text)):\n",
    "        encrypted += get_letter(text[i], key[i % len(key)])\n",
    "    return encrypted"
   ],
   "metadata": {
    "collapsed": false,
    "pycharm": {
     "name": "#%%\n"
    }
   }
  },
  {
   "cell_type": "code",
   "execution_count": 5,
   "outputs": [],
   "source": [
    "def to_file(text, key):\n",
    "    with open(f'output/r{len(key)}.txt', 'w', encoding=\"utf-8\") as f:\n",
    "        f.write(text)"
   ],
   "metadata": {
    "collapsed": false,
    "pycharm": {
     "name": "#%%\n"
    }
   }
  },
  {
   "cell_type": "code",
   "execution_count": 6,
   "outputs": [
    {
     "name": "stdout",
     "output_type": "stream",
     "text": [
      "I0 = 0.04978725689699415\n",
      "напнесидитведьмакзвездысчитаеткогтемраздватричетыреголовауведьмакасобачьяихвостздоровенныйголыйпятьшестьсемьигаснутзвездыавместонихнанебепоявляютсячерныедыркиихтоинужноведьмакучерездыркиснебадождикльетсяадождикснебахмараитеменьназемлерадтогдаведьмакидетнадеревнюлюдямвредитьдолговедьмаксчиталужимозольнакогтеселавдругприметилегопьяненькийпортнойахтыговоритгадипобежалзакустыкмесяцужаловатьсявылетелиззасосенкруглыймесяцзапрыгалнадведьмакомнедаетемузвездтушитьнацелитсяведьмаккогтемназвездуамесяцтуткактутизаслонитрассердилсяведьмакхвостомзакрутилмесяцноровитзацепитьиклыкиоскалилпритихловлесуамесяцнацелилсядакакхватитведьмакапозубамщелкнулсобачьейпастьюведьмакоткусилполовинуумесяцаипроглотилвзвилсямесяцущербныйсветуневзвиделукрылсязаоблакоаведьмакжалобнозавылипосыпалисьсдеревьевлисточкиуведьмакавживотепрыгаетотгрызанныймесяцжжетвертитсяюлойведьмакитакисякнетпокояпобежалкречкеибултыхнулсявводурасплескаласьсеребрянаводалегведьмакнапрохладномднекорчитсяподплываютрусалкистайкойкакпескарималенькиеуставилисьшарахнулисьподплылиопятьиговорятвыплюньвыплюньмесяцтопонатужилсяведьмаквыплюнулповылнемножкойподохарусалкиухватилиголубоймесяципотащиливсамуюпучинунаднеречкисталосветлоясноивеселоамесяцчтозатучейсиделвырастилновыйбокпригладилсяипоплылмеждузвездпосинемунебуневпервыеясномубокавыращивать\n"
     ]
    }
   ],
   "source": [
    "print(f'I0 = {count_I(open_text)}')\n",
    "print(open_text)"
   ],
   "metadata": {
    "collapsed": false,
    "pycharm": {
     "name": "#%%\n"
    }
   }
  },
  {
   "cell_type": "code",
   "execution_count": 7,
   "outputs": [
    {
     "name": "stdout",
     "output_type": "stream",
     "text": [
      "I2 = 0.04194231767647533\n"
     ]
    }
   ],
   "source": [
    "I2 = count_I(encrypt(open_text, key2))\n",
    "print(f'I2 = {I2}')\n",
    "to_file(encrypt(open_text, key2), key2)"
   ],
   "metadata": {
    "collapsed": false,
    "pycharm": {
     "name": "#%%\n"
    }
   }
  },
  {
   "cell_type": "code",
   "execution_count": 8,
   "outputs": [
    {
     "name": "stdout",
     "output_type": "stream",
     "text": [
      "I3 = 0.03770177773268964\n"
     ]
    }
   ],
   "source": [
    "I3 = count_I(encrypt(open_text, key3))\n",
    "print(f'I3 = {I3}')\n",
    "to_file(encrypt(open_text, key3), key3)"
   ],
   "metadata": {
    "collapsed": false,
    "pycharm": {
     "name": "#%%\n"
    }
   }
  },
  {
   "cell_type": "code",
   "execution_count": 9,
   "outputs": [
    {
     "name": "stdout",
     "output_type": "stream",
     "text": [
      "I4 = 0.03587928842952027\n"
     ]
    }
   ],
   "source": [
    "I4 = count_I(encrypt(open_text, key4))\n",
    "print(f'I4 = {I4}')\n",
    "to_file(encrypt(open_text, key4), key4)"
   ],
   "metadata": {
    "collapsed": false,
    "pycharm": {
     "name": "#%%\n"
    }
   }
  },
  {
   "cell_type": "code",
   "execution_count": 10,
   "outputs": [
    {
     "name": "stdout",
     "output_type": "stream",
     "text": [
      "I5 = 0.03531356483443037\n"
     ]
    }
   ],
   "source": [
    "I5 = count_I(encrypt(open_text, key5))\n",
    "print(f'I5 = {I5}')\n",
    "to_file(encrypt(open_text, key5), key5)"
   ],
   "metadata": {
    "collapsed": false,
    "pycharm": {
     "name": "#%%\n"
    }
   }
  },
  {
   "cell_type": "code",
   "execution_count": 11,
   "outputs": [
    {
     "name": "stdout",
     "output_type": "stream",
     "text": [
      "I18 = 0.03370471376653757\n"
     ]
    }
   ],
   "source": [
    "I18 = count_I(encrypt(open_text, key_big))\n",
    "print(f'I18 = {I18}')\n",
    "to_file(encrypt(open_text, key_big), key_big)"
   ],
   "metadata": {
    "collapsed": false,
    "pycharm": {
     "name": "#%%\n"
    }
   }
  },
  {
   "cell_type": "code",
   "execution_count": 12,
   "outputs": [
    {
     "data": {
      "text/plain": "<Figure size 432x288 with 1 Axes>",
      "image/png": "[encoded data removed]"
     },
     "metadata": {
      "needs_background": "light"
     },
     "output_type": "display_data"
    }
   ],
   "source": [
    "df = pd.DataFrame({\n",
    "    'r': [2, 3, 4, 5, 18],\n",
    "    'I': [I2, I3, I4, I5, I18]\n",
    "})\n",
    "\n",
    "df.to_excel('output/all_I.xlsx', index=False)\n",
    "\n",
    "\n",
    "x = np.array([2, 3, 4, 5, 18])\n",
    "y = np.array([I2, I3, I4, I5, I18])\n",
    "\n",
    "plt.plot(x, y)\n",
    "plt.xlabel(\"r\")\n",
    "plt.ylabel(\"I\")\n",
    "plt.grid()\n",
    "\n",
    "plt.show()"
   ],
   "metadata": {
    "collapsed": false,
    "pycharm": {
     "name": "#%%\n"
    }
   }
  }
 ],
 "metadata": {
  "kernelspec": {
   "display_name": "Python 3",
   "language": "python",
   "name": "python3"
  },
  "language_info": {
   "codemirror_mode": {
    "name": "ipython",
    "version": 2
   },
   "file_extension": ".py",
   "mimetype": "text/x-python",
   "name": "python",
   "nbconvert_exporter": "python",
   "pygments_lexer": "ipython2",
   "version": "2.7.6"
  }
 },
 "nbformat": 4,
 "nbformat_minor": 0
}